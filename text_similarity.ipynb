{
  "nbformat": 4,
  "nbformat_minor": 0,
  "metadata": {
    "colab": {
      "provenance": []
    },
    "kernelspec": {
      "name": "python3",
      "display_name": "Python 3"
    },
    "language_info": {
      "name": "python"
    }
  },
  "cells": [
    {
      "cell_type": "code",
      "source": [
        "!pip install -U spacy\n",
        "!python -m spacy download en_core_web_sm"
      ],
      "metadata": {
        "colab": {
          "base_uri": "https://localhost:8080/"
        },
        "id": "4bSTOg9emTXX",
        "outputId": "0f1eee42-c919-4b83-a155-0f3bacd9f75b"
      },
      "execution_count": null,
      "outputs": [
        {
          "output_type": "stream",
          "name": "stdout",
          "text": [
            "Looking in indexes: https://pypi.org/simple, https://us-python.pkg.dev/colab-wheels/public/simple/\n",
            "Requirement already satisfied: spacy in /usr/local/lib/python3.9/dist-packages (3.5.2)\n",
            "Requirement already satisfied: numpy>=1.15.0 in /usr/local/lib/python3.9/dist-packages (from spacy) (1.22.4)\n",
            "Requirement already satisfied: packaging>=20.0 in /usr/local/lib/python3.9/dist-packages (from spacy) (23.0)\n",
            "Requirement already satisfied: typer<0.8.0,>=0.3.0 in /usr/local/lib/python3.9/dist-packages (from spacy) (0.7.0)\n",
            "Requirement already satisfied: requests<3.0.0,>=2.13.0 in /usr/local/lib/python3.9/dist-packages (from spacy) (2.27.1)\n",
            "Requirement already satisfied: langcodes<4.0.0,>=3.2.0 in /usr/local/lib/python3.9/dist-packages (from spacy) (3.3.0)\n",
            "Requirement already satisfied: catalogue<2.1.0,>=2.0.6 in /usr/local/lib/python3.9/dist-packages (from spacy) (2.0.8)\n",
            "Requirement already satisfied: jinja2 in /usr/local/lib/python3.9/dist-packages (from spacy) (3.1.2)\n",
            "Requirement already satisfied: setuptools in /usr/local/lib/python3.9/dist-packages (from spacy) (67.6.1)\n",
            "Requirement already satisfied: thinc<8.2.0,>=8.1.8 in /usr/local/lib/python3.9/dist-packages (from spacy) (8.1.9)\n",
            "Requirement already satisfied: srsly<3.0.0,>=2.4.3 in /usr/local/lib/python3.9/dist-packages (from spacy) (2.4.6)\n",
            "Requirement already satisfied: cymem<2.1.0,>=2.0.2 in /usr/local/lib/python3.9/dist-packages (from spacy) (2.0.7)\n",
            "Requirement already satisfied: smart-open<7.0.0,>=5.2.1 in /usr/local/lib/python3.9/dist-packages (from spacy) (6.3.0)\n",
            "Requirement already satisfied: preshed<3.1.0,>=3.0.2 in /usr/local/lib/python3.9/dist-packages (from spacy) (3.0.8)\n",
            "Requirement already satisfied: tqdm<5.0.0,>=4.38.0 in /usr/local/lib/python3.9/dist-packages (from spacy) (4.65.0)\n",
            "Requirement already satisfied: murmurhash<1.1.0,>=0.28.0 in /usr/local/lib/python3.9/dist-packages (from spacy) (1.0.9)\n",
            "Requirement already satisfied: pydantic!=1.8,!=1.8.1,<1.11.0,>=1.7.4 in /usr/local/lib/python3.9/dist-packages (from spacy) (1.10.7)\n",
            "Requirement already satisfied: wasabi<1.2.0,>=0.9.1 in /usr/local/lib/python3.9/dist-packages (from spacy) (1.1.1)\n",
            "Requirement already satisfied: spacy-legacy<3.1.0,>=3.0.11 in /usr/local/lib/python3.9/dist-packages (from spacy) (3.0.12)\n",
            "Requirement already satisfied: spacy-loggers<2.0.0,>=1.0.0 in /usr/local/lib/python3.9/dist-packages (from spacy) (1.0.4)\n",
            "Requirement already satisfied: pathy>=0.10.0 in /usr/local/lib/python3.9/dist-packages (from spacy) (0.10.1)\n",
            "Requirement already satisfied: typing-extensions>=4.2.0 in /usr/local/lib/python3.9/dist-packages (from pydantic!=1.8,!=1.8.1,<1.11.0,>=1.7.4->spacy) (4.5.0)\n",
            "Requirement already satisfied: certifi>=2017.4.17 in /usr/local/lib/python3.9/dist-packages (from requests<3.0.0,>=2.13.0->spacy) (2022.12.7)\n",
            "Requirement already satisfied: idna<4,>=2.5 in /usr/local/lib/python3.9/dist-packages (from requests<3.0.0,>=2.13.0->spacy) (3.4)\n",
            "Requirement already satisfied: charset-normalizer~=2.0.0 in /usr/local/lib/python3.9/dist-packages (from requests<3.0.0,>=2.13.0->spacy) (2.0.12)\n",
            "Requirement already satisfied: urllib3<1.27,>=1.21.1 in /usr/local/lib/python3.9/dist-packages (from requests<3.0.0,>=2.13.0->spacy) (1.26.15)\n",
            "Requirement already satisfied: blis<0.8.0,>=0.7.8 in /usr/local/lib/python3.9/dist-packages (from thinc<8.2.0,>=8.1.8->spacy) (0.7.9)\n",
            "Requirement already satisfied: confection<1.0.0,>=0.0.1 in /usr/local/lib/python3.9/dist-packages (from thinc<8.2.0,>=8.1.8->spacy) (0.0.4)\n",
            "Requirement already satisfied: click<9.0.0,>=7.1.1 in /usr/local/lib/python3.9/dist-packages (from typer<0.8.0,>=0.3.0->spacy) (8.1.3)\n",
            "Requirement already satisfied: MarkupSafe>=2.0 in /usr/local/lib/python3.9/dist-packages (from jinja2->spacy) (2.1.2)\n",
            "2023-04-12 22:33:41.663631: I tensorflow/core/platform/cpu_feature_guard.cc:182] This TensorFlow binary is optimized to use available CPU instructions in performance-critical operations.\n",
            "To enable the following instructions: AVX2 FMA, in other operations, rebuild TensorFlow with the appropriate compiler flags.\n",
            "2023-04-12 22:33:42.848303: W tensorflow/compiler/tf2tensorrt/utils/py_utils.cc:38] TF-TRT Warning: Could not find TensorRT\n",
            "Looking in indexes: https://pypi.org/simple, https://us-python.pkg.dev/colab-wheels/public/simple/\n",
            "Collecting en-core-web-sm==3.5.0\n",
            "  Downloading https://github.com/explosion/spacy-models/releases/download/en_core_web_sm-3.5.0/en_core_web_sm-3.5.0-py3-none-any.whl (12.8 MB)\n",
            "\u001b[2K     \u001b[90m━━━━━━━━━━━━━━━━━━━━━━━━━━━━━━━━━━━━━━━━\u001b[0m \u001b[32m12.8/12.8 MB\u001b[0m \u001b[31m74.9 MB/s\u001b[0m eta \u001b[36m0:00:00\u001b[0m\n",
            "\u001b[?25hRequirement already satisfied: spacy<3.6.0,>=3.5.0 in /usr/local/lib/python3.9/dist-packages (from en-core-web-sm==3.5.0) (3.5.2)\n",
            "Requirement already satisfied: setuptools in /usr/local/lib/python3.9/dist-packages (from spacy<3.6.0,>=3.5.0->en-core-web-sm==3.5.0) (67.6.1)\n",
            "Requirement already satisfied: langcodes<4.0.0,>=3.2.0 in /usr/local/lib/python3.9/dist-packages (from spacy<3.6.0,>=3.5.0->en-core-web-sm==3.5.0) (3.3.0)\n",
            "Requirement already satisfied: murmurhash<1.1.0,>=0.28.0 in /usr/local/lib/python3.9/dist-packages (from spacy<3.6.0,>=3.5.0->en-core-web-sm==3.5.0) (1.0.9)\n",
            "Requirement already satisfied: tqdm<5.0.0,>=4.38.0 in /usr/local/lib/python3.9/dist-packages (from spacy<3.6.0,>=3.5.0->en-core-web-sm==3.5.0) (4.65.0)\n",
            "Requirement already satisfied: numpy>=1.15.0 in /usr/local/lib/python3.9/dist-packages (from spacy<3.6.0,>=3.5.0->en-core-web-sm==3.5.0) (1.22.4)\n",
            "Requirement already satisfied: srsly<3.0.0,>=2.4.3 in /usr/local/lib/python3.9/dist-packages (from spacy<3.6.0,>=3.5.0->en-core-web-sm==3.5.0) (2.4.6)\n",
            "Requirement already satisfied: thinc<8.2.0,>=8.1.8 in /usr/local/lib/python3.9/dist-packages (from spacy<3.6.0,>=3.5.0->en-core-web-sm==3.5.0) (8.1.9)\n",
            "Requirement already satisfied: preshed<3.1.0,>=3.0.2 in /usr/local/lib/python3.9/dist-packages (from spacy<3.6.0,>=3.5.0->en-core-web-sm==3.5.0) (3.0.8)\n",
            "Requirement already satisfied: requests<3.0.0,>=2.13.0 in /usr/local/lib/python3.9/dist-packages (from spacy<3.6.0,>=3.5.0->en-core-web-sm==3.5.0) (2.27.1)\n",
            "Requirement already satisfied: pydantic!=1.8,!=1.8.1,<1.11.0,>=1.7.4 in /usr/local/lib/python3.9/dist-packages (from spacy<3.6.0,>=3.5.0->en-core-web-sm==3.5.0) (1.10.7)\n",
            "Requirement already satisfied: spacy-loggers<2.0.0,>=1.0.0 in /usr/local/lib/python3.9/dist-packages (from spacy<3.6.0,>=3.5.0->en-core-web-sm==3.5.0) (1.0.4)\n",
            "Requirement already satisfied: catalogue<2.1.0,>=2.0.6 in /usr/local/lib/python3.9/dist-packages (from spacy<3.6.0,>=3.5.0->en-core-web-sm==3.5.0) (2.0.8)\n",
            "Requirement already satisfied: cymem<2.1.0,>=2.0.2 in /usr/local/lib/python3.9/dist-packages (from spacy<3.6.0,>=3.5.0->en-core-web-sm==3.5.0) (2.0.7)\n",
            "Requirement already satisfied: pathy>=0.10.0 in /usr/local/lib/python3.9/dist-packages (from spacy<3.6.0,>=3.5.0->en-core-web-sm==3.5.0) (0.10.1)\n",
            "Requirement already satisfied: typer<0.8.0,>=0.3.0 in /usr/local/lib/python3.9/dist-packages (from spacy<3.6.0,>=3.5.0->en-core-web-sm==3.5.0) (0.7.0)\n",
            "Requirement already satisfied: spacy-legacy<3.1.0,>=3.0.11 in /usr/local/lib/python3.9/dist-packages (from spacy<3.6.0,>=3.5.0->en-core-web-sm==3.5.0) (3.0.12)\n",
            "Requirement already satisfied: jinja2 in /usr/local/lib/python3.9/dist-packages (from spacy<3.6.0,>=3.5.0->en-core-web-sm==3.5.0) (3.1.2)\n",
            "Requirement already satisfied: wasabi<1.2.0,>=0.9.1 in /usr/local/lib/python3.9/dist-packages (from spacy<3.6.0,>=3.5.0->en-core-web-sm==3.5.0) (1.1.1)\n",
            "Requirement already satisfied: smart-open<7.0.0,>=5.2.1 in /usr/local/lib/python3.9/dist-packages (from spacy<3.6.0,>=3.5.0->en-core-web-sm==3.5.0) (6.3.0)\n",
            "Requirement already satisfied: packaging>=20.0 in /usr/local/lib/python3.9/dist-packages (from spacy<3.6.0,>=3.5.0->en-core-web-sm==3.5.0) (23.0)\n",
            "Requirement already satisfied: typing-extensions>=4.2.0 in /usr/local/lib/python3.9/dist-packages (from pydantic!=1.8,!=1.8.1,<1.11.0,>=1.7.4->spacy<3.6.0,>=3.5.0->en-core-web-sm==3.5.0) (4.5.0)\n",
            "Requirement already satisfied: idna<4,>=2.5 in /usr/local/lib/python3.9/dist-packages (from requests<3.0.0,>=2.13.0->spacy<3.6.0,>=3.5.0->en-core-web-sm==3.5.0) (3.4)\n",
            "Requirement already satisfied: certifi>=2017.4.17 in /usr/local/lib/python3.9/dist-packages (from requests<3.0.0,>=2.13.0->spacy<3.6.0,>=3.5.0->en-core-web-sm==3.5.0) (2022.12.7)\n",
            "Requirement already satisfied: charset-normalizer~=2.0.0 in /usr/local/lib/python3.9/dist-packages (from requests<3.0.0,>=2.13.0->spacy<3.6.0,>=3.5.0->en-core-web-sm==3.5.0) (2.0.12)\n",
            "Requirement already satisfied: urllib3<1.27,>=1.21.1 in /usr/local/lib/python3.9/dist-packages (from requests<3.0.0,>=2.13.0->spacy<3.6.0,>=3.5.0->en-core-web-sm==3.5.0) (1.26.15)\n",
            "Requirement already satisfied: blis<0.8.0,>=0.7.8 in /usr/local/lib/python3.9/dist-packages (from thinc<8.2.0,>=8.1.8->spacy<3.6.0,>=3.5.0->en-core-web-sm==3.5.0) (0.7.9)\n",
            "Requirement already satisfied: confection<1.0.0,>=0.0.1 in /usr/local/lib/python3.9/dist-packages (from thinc<8.2.0,>=8.1.8->spacy<3.6.0,>=3.5.0->en-core-web-sm==3.5.0) (0.0.4)\n",
            "Requirement already satisfied: click<9.0.0,>=7.1.1 in /usr/local/lib/python3.9/dist-packages (from typer<0.8.0,>=0.3.0->spacy<3.6.0,>=3.5.0->en-core-web-sm==3.5.0) (8.1.3)\n",
            "Requirement already satisfied: MarkupSafe>=2.0 in /usr/local/lib/python3.9/dist-packages (from jinja2->spacy<3.6.0,>=3.5.0->en-core-web-sm==3.5.0) (2.1.2)\n",
            "\u001b[38;5;2m✔ Download and installation successful\u001b[0m\n",
            "You can now load the package via spacy.load('en_core_web_sm')\n"
          ]
        }
      ]
    },
    {
      "cell_type": "code",
      "source": [],
      "metadata": {
        "id": "7tNVgkyjWvtk"
      },
      "execution_count": null,
      "outputs": []
    },
    {
      "cell_type": "code",
      "execution_count": 1,
      "metadata": {
        "id": "d2ap592WlfrK"
      },
      "outputs": [],
      "source": [
        "# pip install -U spacy\n",
        "# python -m spacy download en_core_web_sm\n",
        "import spacy\n",
        "\n",
        "# Load English tokenizer, tagger, parser and NER\n",
        "nlp = spacy.load(\"en_core_web_sm\")\n",
        "\n",
        "# Process whole documents\n",
        "#char_descriptions = \"Monkey D. Luffy, also known as 'Straw Hat Luffy' and commonly as 'Straw Hat', is the founder and captain of the increasingly infamous and powerful Straw Hat Pirates, as well as the most powerful of its top fighters. He desires to find the legendary treasure left behind by the late Gol D. Roger and thereby become the Pirate King, which would help facilitate an unknown dream of his that he has told only to Shanks, his brothers and crew. He believes that being the Pirate King means having the most freedom in the world. Born in Foosha Village, Luffy is the son of Monkey D. Dragon, the leader of the Revolutionary Army, and the grandson of the Marine hero Monkey D. Garp, and their family carries the initial and Will of D. Luffy met 'Red-Haired' Shanks, who gave Luffy the very straw hat that has become Luffy's signature accessory, having gifted it to the boy as part of a promise for them to meet again someday after he became a great pirate. Growing up on Dawn Island, Luffy befriended and became sworn brothers of the late 'Fire Fist' Portgas D. Ace and Revolutionary Chief-of-Staff Sabo,as well as being raised under the care of Curly Dadan. Luffy has gone up against numerous global powers around him, starting with fighting the most powerful pirates in the East Blue and moving to clashes against the Marines, Seven Warlords of the Sea, Cipher Pol, World Nobles, and even the Four Emperors of the Grand Line, emerging victorious in a majority of these battles. He invaded and indirectly caused the annihilation of Enies Lobby, escaped the impregnable Impel Down, and was a focal figure in the Summit War of Marineford. He has also either defeated or befriended seven of the eleven known past or present Warlords prior to the organization's dissolution. Furthermore, Luffy has invaded the territory of the Four Emperors on multiple occasions, and eventually managed to defeat one. Luffy's accomplishments and heritage have caused him to be labeled as a 'Dangerous Future Element' while in the process gaining a reputation for being 'reckless' and, in some cases, 'insane,' earning the wrath of Fleet Admiral Sakazuki, the Marine Headquarters, and even the World Government. Luffy also has a penchant for attracting followers and has unwillingly been named the leader of the Straw Hat Grand Fleet, consisting of seven pirate crews who swore to come to his aid whenever he wishes. After learning of this and his exploits against the Big Mom Pirates, the press labeled him the 'Fifth Emperor of the Sea,' though many prominent figures initially considered this to be exaggerated. However, after defeating Kaidou during the Raid on Onigashima, Luffy was officially declared as one of the Four Emperors by the World Government along with Buggy, replacing Kaidou and Big Mom. Luffy has made tremendous strides in his life of piracy, with his bounty heavily reflecting this fact. He gained his first bounty of 30,000,000 Beli for defeating the strongest pirate captains of the East Blue, which then increased to 100,000,000 Beli after defeating Crocodile in Arabasta. After his crew's invasion into and escape from Enies Lobby, his bounty was increased to 300,000,000 Beli. His sizeable bounty upon arriving at the Sabaody Archipelago caused Luffy, along with Zoro to be included among the eleven 'Super Rookies,'' pirates who simultaneously reached the Red Line with bounties of over 100,000,000 Beli shortly before the Summit War. He, the other ten Super Rookies, and Marshall D. Teach would go on to be referred to as the 'Worst Generation.' Two years after the war, with his bounty increased to 400,000,000 Beli, he entered the New World and began challenging the Emperors and their allies directly, with his bounty going up to Beli.png500,000,000 after the Dressrosa Arc, and later all the way to Beli.png1,500,000,000 after the global revelation that he is Sabo's brother and the existence of Straw Hat Grand Fleet becoming public, as well as the events of the Whole Cake Island Arc. After leading the Raid on Onigashima and defeating Kaidou, his bounty was increased to 3,000,000,000 Beli.'Cat Burglar' Nami is the navigator of the Straw Hat Pirates and one of the Senior Officers of the Straw Hat Grand Fleet. She is the third member of the crew and the second to join, doing so during the Orange Town Arc. She is the adoptive sister of Nojiko after the two were orphaned and taken in by Bell-mère. She was formerly a member of the Arlong Pirates and initially joined the Straw Hats so that she could rob them in order to buy back her village from Arlong. However, she legitimately joined the Straw Hats after they rebelled against and defeated Arlong. Her dream is to make a map of the entire world. She first gained a bounty of 16,000,000 Beli following the raid on Enies Lobby. It later increased to 66,000,000 Beli after the Dressrosa Arc. Following the Raid on Onigashima, her bounty was increased to 366,000,000 Beli.\"\n",
        "Nami_description = \"Nami is one of the smartest Straw Hat pirates in One Piece, initially despising pirates due to past traumas. Her experiences with Luffy changed her perspective, although she remains cautious and skeptical of myths and legends. Nami is both compassionate and cunning, valuing both her friends and money. While she's not the bravest character, she shows courage when her friends are in danger. Despite her love for money, her loyalty to her friends always comes first. Nami is known for her emotional intelligence and understanding of others' feelings, often showing sympathy and forgiveness even in difficult situations.\"\n",
        "Luffy_description = \"Luffy, the protagonist of One Piece, is known for his lack of common sense, fearlessness, and unwavering belief in himself. He is ambitious, aiming to become the Pirate King. Although his personality is often childlike, he can accurately see the heart of the matter and address issues in a straightforward manner. Luffy is influenced by Shanks, who has helped him become calmer and more patient. Luffy dislikes weak-minded people but appreciates those who put in the effort to overcome limitations. He is curious and easily amazed by simple things, often lacking knowledge in certain areas. His interest in women is nuanced and he is not overtly romantic. Luffy admires heroic figures but does not consider himself one. He is an extremely heavy sleeper and has gained a reputation as a dangerous person due to his recklessness. After losing his brother Ace, Luffy experiences grief and self-doubt but ultimately regains his confidence to continue pursuing his dream of becoming the Pirate King. Throughout the series, Luffy is often compared to other D. carriers, suggesting a connection between them.\"\n",
        "Zoro_description = \"Zoro from One Piece is a stern, serious, and distant character who is deeply loyal to his crew. He rarely shows emotions other than anger and maintains a quiet solemnity during tough moments. Despite appearing blunt and cold, Zoro cares for his crewmates and wishes to protect them at all costs. He is perceptive, logical, and committed to the samurai philosophy of Bushido, valuing honor and loyalty. Zoro is also kind-hearted, often showing compassion towards strangers and detesting cruelty. He has a soft spot for children and women and does not seek recognition for his heroic acts.\"\n",
        "\n",
        "#char_descriptions  = nlp(Nami_description + Luffy_description + Zoro_description)\n",
        "char_descriptions  = Nami_description + Luffy_description + Zoro_description"
      ]
    },
    {
      "cell_type": "code",
      "source": [
        "with open('story_4_prompt.txt', 'r') as file:\n",
        "    story_4_prompt = file.read().replace('\\n', ' ')\n",
        "    #story_4_prompt = ''.join([i for i in story_4_prompt if not i.isdigit()])\n",
        "    #remove_str = ['Description:']\n",
        "    #for i in range(len(remove_str)):\n",
        "    #  story_4_prompt = story_4_prompt.replace(remove_str[i], '')\n",
        "    #story_4_prompt = ''.join([i for i in story_4_prompt if not i.isdigit()])\n",
        "    story_4_prompt = nlp(story_4_prompt)\n",
        "\n",
        "with open('story_4_no_prompt.txt', 'r') as file:\n",
        "    story_4_no_prompt = file.read().replace('\\n', ' ')\n",
        "   # story_4_no_prompt = ''.join([i for i in story_4_no_prompt if not i.isdigit()])\n",
        "   # remove_str = ['Description:',' Same as Panel .','Setting:',' Dialog:','Title: Straw Hat Showdown ','Panel :  ']\n",
        "   # for i in range(len(remove_str)):\n",
        "   #   story_4_no_prompt = story_4_no_prompt.replace(remove_str[i], '')\n",
        "    #story_4_no_prompt = ''.join([i for i in story_4_no_prompt if not i.isdigit()])\n",
        "    story_4_no_prompt = nlp(story_4_no_prompt)\n",
        "\n",
        "with open('story_3.5_prompt.txt', 'r') as file:\n",
        "    story_3_prompt = file.read().replace('\\n', '')\n",
        "    story_3_prompt = nlp(story_3_prompt)\n",
        "\n",
        "with open('story_3.5_no_prompt.txt', 'r') as file:\n",
        "    story_3_no_prompt = file.read().replace('\\n', '')\n",
        "    story_3_no_prompt = nlp(story_3_no_prompt)"
      ],
      "metadata": {
        "id": "D9Z0KEXlwVkk"
      },
      "execution_count": null,
      "outputs": []
    },
    {
      "cell_type": "code",
      "source": [
        "import warnings\n",
        "warnings.filterwarnings('ignore')"
      ],
      "metadata": {
        "id": "kebcGf1zMPfI"
      },
      "execution_count": null,
      "outputs": []
    },
    {
      "cell_type": "code",
      "source": [],
      "metadata": {
        "id": "K70OutjG3tci"
      },
      "execution_count": null,
      "outputs": []
    },
    {
      "cell_type": "markdown",
      "source": [
        "## Use V4 to summarize the story\n",
        "\n",
        "### Result: No prompted ==> higher score"
      ],
      "metadata": {
        "id": "7BMssW3SNfsV"
      }
    },
    {
      "cell_type": "code",
      "source": [
        "story_4_prompt_summary = \" the Straw Hat Pirates navigate through a storm, with Luffy using his Gomu Gomu no Giant Pistol attack to save the ship. After repairing the ship and continuing on their journey, they find a mysterious, fog-covered island with ancient ruins and a hidden treasure chest containing a map. Following the map to another island with a massive mountain, they discover a deserted village and ancient symbols leading to a hidden cave. Inside the cave, the crew finds a chamber filled with gold and treasures, bringing them one step closer to their ultimate goal: the One Piece. Throughout the adventure, the Straw Hat Pirates display unwavering determination, teamwork, and confidence in their ability to overcome any challenge.\"\n",
        "#story_4_prompt_summary = nlp(story_4_prompt_summary)\n",
        "#print(story_4_prompt_summary.similarity(char_descriptions))\n",
        "#story_4_prompt_summary"
      ],
      "metadata": {
        "id": "Lk9r-8mlM93E"
      },
      "execution_count": null,
      "outputs": []
    },
    {
      "cell_type": "code",
      "source": [
        "story_4_no_prompt_summary = \"The Straw Hat Pirates, consisting of Luffy, Nami, and Zoro, successfully navigate around a dangerous sea storm and explore an island. They discover a cave containing treasure and an ancient scroll, which leads them to a hidden island. On this mysterious island, they encounter exotic wildlife and an ancient temple, where they find carvings hinting at a powerful treasure hidden within. As they continue their exploration, they discover a hidden chamber with a large ornate door, preparing themselves for more surprises and challenges.\"\n",
        "#story_4_no_prompt_summary = nlp(story_4_no_prompt_summary)\n",
        "#print(story_4_no_prompt_summary.similarity(char_descriptions))\n",
        "#story_4_no_prompt_summary"
      ],
      "metadata": {
        "id": "HYgWEKy_M9_C"
      },
      "execution_count": null,
      "outputs": []
    },
    {
      "cell_type": "code",
      "source": [
        "story_3_prompt_summary = \"The comic follows the Straw Hat Pirates, consisting of Luffy, Nami, and Zoro, as they sail on their ship, the Thousand Sunny, towards the next island on their journey. Throughout their adventure, they face multiple challenges, including hostile pirates, a giant sea monster, an encounter with natives on a jungle island, and a severe storm. Despite these obstacles, the Straw Hats work together as a team and persevere, always ready for the next adventure that lies ahead.\"\n",
        "#story_3_prompt_summary = nlp(story_3_prompt_summary)\n",
        "#print(story_3_prompt_summary.similarity(char_descriptions))\n",
        "#story_3_prompt_summary"
      ],
      "metadata": {
        "id": "1JEMI1_YViQX"
      },
      "execution_count": null,
      "outputs": []
    },
    {
      "cell_type": "code",
      "source": [
        "story_3_no_prompt_summary = \"Luffy, Nami, and Zoro embark on an adventure to find hidden treasure using a mysterious map. After discovering the treasure and fighting off bandits, they split the loot and continue their journey. They visit an island to gather rare herbs and spices, where they battle a giant creature and receive a valuable navigation tool as a reward. The Straw Hat Pirates reaffirm their bond and set sail towards their next adventure, ready to face any challenges that come their way.\"\n",
        "#story_3_no_prompt_summary = nlp(story_3_no_prompt_summary)\n",
        "#print (story_3_no_prompt_summary.similarity(char_descriptions))\n",
        "#story_3_no_prompt_summary"
      ],
      "metadata": {
        "id": "Y0W0AiVZM-GW"
      },
      "execution_count": null,
      "outputs": []
    },
    {
      "cell_type": "code",
      "source": [
        "#!pip install sentence_transformers"
      ],
      "metadata": {
        "id": "Ziro6hRjyH9Q"
      },
      "execution_count": null,
      "outputs": []
    },
    {
      "cell_type": "markdown",
      "source": [
        "# Similarity score:\n",
        "### Summary of Generated Story v.s. Character Description"
      ],
      "metadata": {
        "id": "3quRk5iUVGwO"
      }
    },
    {
      "cell_type": "code",
      "source": [
        "from sentence_transformers import SentenceTransformer\n",
        "import numpy as np\n",
        "import pandas as pd\n",
        "\n",
        "model = SentenceTransformer('bert-base-nli-mean-tokens')\n",
        "\n",
        "summaries = [char_descriptions, story_4_prompt_summary, story_4_no_prompt_summary, story_3_prompt_summary, story_3_no_prompt_summary]\n",
        "summaries_embeddings = model.encode(summaries)"
      ],
      "metadata": {
        "id": "drIQ1onmQ0Mb"
      },
      "execution_count": null,
      "outputs": []
    },
    {
      "cell_type": "code",
      "source": [
        "from sklearn.metrics.pairwise import cosine_similarity\n",
        "\n",
        "sim_arr =cosine_similarity(\n",
        "    [summaries_embeddings[0]],\n",
        "    summaries_embeddings[1:]\n",
        ")\n",
        "sim_arr\n",
        "\n",
        "# Order: story_4_prompt_summary, story_4_no_prompt_summary, story_3_prompt_summary, story_3_no_prompt_summary"
      ],
      "metadata": {
        "colab": {
          "base_uri": "https://localhost:8080/"
        },
        "id": "jJsku2QnRI4v",
        "outputId": "bb3796da-9a43-4e59-f1bd-8a61655226fb"
      },
      "execution_count": null,
      "outputs": [
        {
          "output_type": "execute_result",
          "data": {
            "text/plain": [
              "array([[0.569098  , 0.48967683, 0.5164241 , 0.54312336]], dtype=float32)"
            ]
          },
          "metadata": {},
          "execution_count": 103
        }
      ]
    },
    {
      "cell_type": "markdown",
      "source": [
        "# Plot Score\n",
        "### Summary of Generated Story v.s. Summary of Famous Japaness Comics"
      ],
      "metadata": {
        "id": "JESNaU4SVcOp"
      }
    },
    {
      "cell_type": "code",
      "source": [
        "Naruto = \"Naruto is a popular Japanese manga and anime series created by Masashi Kishimoto. The story follows the life of Naruto Uzumaki, a young ninja from the Hidden Leaf Village (Konohagakure), who aspires to become Hokage, the strongest and most respected ninja in the village. The series is set in a world of ninja villages, where young ninjas are trained in various ninja techniques, known as jutsu, and are organized into teams to carry out missions for their villages. Naruto, who possesses the spirit of the powerful Nine-Tails Fox sealed within him, faces various challenges, including his ostracism from the village and his desire to prove himself as a capable ninja. Throughout the series, Naruto forms strong bonds with his teammates, Sasuke Uchiha and Sakura Haruno, as well as their mentor, Kakashi Hatake. Naruto's journey involves overcoming his own weaknesses, discovering the power of friendship, and understanding the true meaning of being a ninja. Naruto's character development and the series' themes of perseverance, determination, and the importance of friendship have resonated with millions of fans worldwide, making Naruto one of the most iconic and successful manga and anime franchises of all time.\"\n",
        "#Naruto = nlp(Naruto)\n",
        "\n",
        "Bleach = \"The story follows the adventures of Ichigo Kurosaki, a teenager with the ability to see ghosts. After accidentally obtaining the powers of a Soul Reaper from Rukia Kuchiki, he is tasked with defending humanity from evil spirits and guiding the souls of the deceased to the afterlife. As Ichigo fulfills his duties, he discovers the complex and hidden world of Soul Reapers, Hollows, and other spiritual beings, leading him to confront powerful enemies and uncover the truth about his unique abilities. Bleach is known for its diverse cast of characters, intricate storylines, and intense battles, which have garnered a large and dedicated fanbase. The series has inspired various spin-offs, movies, novels, and video games, making it a significant part of contemporary Japanese pop culture.\"\n",
        "#Bleach = nlp(Bleach)\n",
        "\n",
        "Hunter_x_Hunter = \"The story follows the journey of Gon Freecss, a young boy who embarks on an adventure to become a professional Hunter, an elite class of individuals with exceptional skills and abilities. Gon's ultimate goal is to find his father, Ging Freecss, who is a legendary Hunter himself and left Gon when he was just a baby. Throughout the series, Gon meets and forms friendships with several other aspiring Hunters, including the intelligent and skilled Kurapika, the loyal and strong Leorio, and the deadly but caring Killua. Together, they take on various challenges and missions, such as competing in the grueling Hunter Examination, battling dangerous criminals, and exploring the mysterious and treacherous Greed Island. Hunter x Hunter is renowned for its complex characters, intricate storylines, and thematic explorations of friendship, personal growth, and the morality of power. The series is also known for its unique power system called Nen, which allows individuals to harness their inner life energy to perform incredible feats. As the story progresses, the characters face numerous challenges and confrontations with various factions and powerful adversaries. Throughout their adventures, they unravel the secrets of the Hunter world, develop their skills, and grow as individuals.\"\n",
        "#Hunter_x_Hunter = nlp(Hunter_x_Hunter)\n",
        "\n",
        "Attack_on_Titan = \"The story is set in a world where humanity is on the brink of extinction due to giant humanoid creatures called Titans, who devour humans. In order to protect themselves from the Titans, the remnants of humanity have built three massive walls that enclose their last bastion.The story follows Eren Yeager, his adoptive sister Mikasa Ackerman, and their childhood friend Armin Arlert, who join the military in hopes of fighting against the Titans and reclaiming their world. As the story progresses, they discover the truth behind the Titans' origin and the mysterious powers Eren possesses, which can transform him into a Titan. The series explores themes such as survival, freedom, sacrifice, and the nature of humanity. Attack on Titan gained widespread acclaim for its dark and intense storytelling, gripping plot twists, and well-developed characters. With its unique premise and engaging narrative, the series has amassed a large following and become a cultural phenomenon.\"\n",
        "#Attack_on_Titan = nlp(Attack_on_Titan)\n",
        "\n",
        "Fullmetal_Alchemist = \"Fullmetal Alchemist is a Japanese manga series written and illustrated by Hiromu Arakawa. The story is set in a fictional world where alchemy, a blend of science and magic, is widely practiced. The narrative follows two brothers, Edward and Alphonse Elric, who are on a quest to find the Philosopher's Stone to restore their bodies after a failed alchemical experiment. The Elric brothers' journey is fraught with danger, as they encounter various adversaries, including rogue alchemists, military personnel, and homunculi—artificial humans created through alchemy. Throughout the story, the brothers uncover the dark secrets surrounding the Philosopher's Stone and the corrupt government that seeks to use it for nefarious purposes. Fullmetal Alchemist explores themes such as the consequences of playing with the natural order, the importance of self-sacrifice, and the cost of pursuing one's ambitions. \"\n",
        "#Fullmetal_Alchemist = nlp(Fullmetal_Alchemist)\n",
        "\n",
        "comics = [Naruto, Bleach, Hunter_x_Hunter, Attack_on_Titan, Fullmetal_Alchemist]\n",
        "comics_embeddings = model.encode(comics)"
      ],
      "metadata": {
        "id": "t-2vm26U_lWy"
      },
      "execution_count": null,
      "outputs": []
    },
    {
      "cell_type": "code",
      "source": [
        "sim_arr_2 = []\n",
        "for i in range(1,5):\n",
        "  sim = cosine_similarity(\n",
        "      [summaries_embeddings[i]],\n",
        "      comics_embeddings[:]\n",
        "      )\n",
        "  sim_arr_2.append(np.mean(sim))\n",
        "sim_arr_2 = np.array(sim_arr_2)\n",
        "sim_arr_2\n",
        "\n",
        "# Order: story_4_prompt_summary, story_4_no_prompt_summary, story_3_prompt_summary, story_3_no_prompt_summary"
      ],
      "metadata": {
        "colab": {
          "base_uri": "https://localhost:8080/"
        },
        "id": "L5WuBa5oVbls",
        "outputId": "6fab7e9d-614d-46fc-cec7-9b06e0341d9a"
      },
      "execution_count": null,
      "outputs": [
        {
          "output_type": "execute_result",
          "data": {
            "text/plain": [
              "array([0.6651288 , 0.65721637, 0.5779551 , 0.6664855 ], dtype=float32)"
            ]
          },
          "metadata": {},
          "execution_count": 113
        }
      ]
    },
    {
      "cell_type": "code",
      "source": [
        "story_score = 0.5*sim_arr + 0.5*sim_arr_2\n",
        "story_score = np.round(story_score,2)\n",
        "story_score\n",
        "\n",
        "# Order: story_4_prompt_summary, story_4_no_prompt_summary, story_3_prompt_summary, story_3_no_prompt_summary"
      ],
      "metadata": {
        "colab": {
          "base_uri": "https://localhost:8080/"
        },
        "id": "EMu5gqv2VbvL",
        "outputId": "1e2df865-90ae-4505-827b-62795112d18c"
      },
      "execution_count": null,
      "outputs": [
        {
          "output_type": "execute_result",
          "data": {
            "text/plain": [
              "array([[0.62, 0.57, 0.55, 0.6 ]], dtype=float32)"
            ]
          },
          "metadata": {},
          "execution_count": 117
        }
      ]
    },
    {
      "cell_type": "code",
      "source": [],
      "metadata": {
        "id": "LQuAr9sjEU7i"
      },
      "execution_count": null,
      "outputs": []
    }
  ]
}